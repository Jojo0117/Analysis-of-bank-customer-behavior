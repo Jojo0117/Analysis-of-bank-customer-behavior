{
  "nbformat": 4,
  "nbformat_minor": 0,
  "metadata": {
    "colab": {
      "name": "Behavior.ipynb",
      "provenance": [],
      "collapsed_sections": [
        "BjYgzRnArINF",
        "cG0Qmt_YrntO",
        "HojxkoJVruQ-",
        "XrC-LbZSrydA"
      ],
      "authorship_tag": "ABX9TyM7eRYJk7E0qO+cE49NptPU",
      "include_colab_link": true
    },
    "kernelspec": {
      "name": "python3",
      "display_name": "Python 3"
    },
    "language_info": {
      "name": "python"
    }
  },
  "cells": [
    {
      "cell_type": "markdown",
      "metadata": {
        "id": "view-in-github",
        "colab_type": "text"
      },
      "source": [
        "<a href=\"https://colab.research.google.com/github/Jojo0117/Analysis-of-bank-customer-behavior/blob/main/Behavior.ipynb\" target=\"_parent\"><img src=\"https://colab.research.google.com/assets/colab-badge.svg\" alt=\"Open In Colab\"/></a>"
      ]
    },
    {
      "cell_type": "code",
      "execution_count": null,
      "metadata": {
        "id": "mV9dTohsdrKL"
      },
      "outputs": [],
      "source": [
        "import pandas as pd\n",
        "accts = pd.read_csv(\"BusinessCase_Accts.csv\")\n",
        "custs = pd.read_csv(\"BusinessCase_Custs.csv\")\n",
        "tx = pd.read_csv(\"BusinessCase_Tx.csv\")"
      ]
    },
    {
      "cell_type": "code",
      "source": [
        "accts.head()"
      ],
      "metadata": {
        "id": "VBj5gY5JuYPa"
      },
      "execution_count": null,
      "outputs": []
    },
    {
      "cell_type": "code",
      "source": [
        "custs.head()"
      ],
      "metadata": {
        "id": "D0VkLtXzt9-G"
      },
      "execution_count": null,
      "outputs": []
    },
    {
      "cell_type": "code",
      "source": [
        "tx.head()"
      ],
      "metadata": {
        "colab": {
          "base_uri": "https://localhost:8080/",
          "height": 354
        },
        "id": "iaaNZ6xquBEo",
        "outputId": "d598e266-8f1b-4226-dc0d-648cd6288958"
      },
      "execution_count": null,
      "outputs": [
        {
          "output_type": "execute_result",
          "data": {
            "text/html": [
              "\n",
              "  <div id=\"df-41f50365-6d99-441d-bf66-47bb85c8c83a\">\n",
              "    <div class=\"colab-df-container\">\n",
              "      <div>\n",
              "<style scoped>\n",
              "    .dataframe tbody tr th:only-of-type {\n",
              "        vertical-align: middle;\n",
              "    }\n",
              "\n",
              "    .dataframe tbody tr th {\n",
              "        vertical-align: top;\n",
              "    }\n",
              "\n",
              "    .dataframe thead th {\n",
              "        text-align: right;\n",
              "    }\n",
              "</style>\n",
              "<table border=\"1\" class=\"dataframe\">\n",
              "  <thead>\n",
              "    <tr style=\"text-align: right;\">\n",
              "      <th></th>\n",
              "      <th>Unnamed: 0</th>\n",
              "      <th>description</th>\n",
              "      <th>currencyAmount</th>\n",
              "      <th>locationRegion</th>\n",
              "      <th>locationCity</th>\n",
              "      <th>originationDateTime</th>\n",
              "      <th>customerId</th>\n",
              "      <th>merchantId</th>\n",
              "      <th>accountId</th>\n",
              "      <th>categoryTags</th>\n",
              "    </tr>\n",
              "  </thead>\n",
              "  <tbody>\n",
              "    <tr>\n",
              "      <th>0</th>\n",
              "      <td>0</td>\n",
              "      <td>ADP PMT 59964899</td>\n",
              "      <td>1092.22</td>\n",
              "      <td>NaN</td>\n",
              "      <td>NaN</td>\n",
              "      <td>2018-06-28T00:00:00.001Z</td>\n",
              "      <td>fe51c153-fbec-4b64-9b00-2530035ef0e1_fa967441-...</td>\n",
              "      <td>NaN</td>\n",
              "      <td>fe51c153-fbec-4b64-9b00-2530035ef0e1_5b35142d-...</td>\n",
              "      <td>Income</td>\n",
              "    </tr>\n",
              "    <tr>\n",
              "      <th>1</th>\n",
              "      <td>1</td>\n",
              "      <td>ADP PMT 78870688</td>\n",
              "      <td>701.11</td>\n",
              "      <td>NaN</td>\n",
              "      <td>NaN</td>\n",
              "      <td>2018-06-28T00:00:00.001Z</td>\n",
              "      <td>fe51c153-fbec-4b64-9b00-2530035ef0e1_ee129e70-...</td>\n",
              "      <td>NaN</td>\n",
              "      <td>fe51c153-fbec-4b64-9b00-2530035ef0e1_9172eb97-...</td>\n",
              "      <td>Income</td>\n",
              "    </tr>\n",
              "    <tr>\n",
              "      <th>2</th>\n",
              "      <td>2</td>\n",
              "      <td>ROGERS CABLE E2I6X9</td>\n",
              "      <td>111.98</td>\n",
              "      <td>NaN</td>\n",
              "      <td>NaN</td>\n",
              "      <td>2018-04-30T00:00:00.002Z</td>\n",
              "      <td>fe51c153-fbec-4b64-9b00-2530035ef0e1_ad635ae8-...</td>\n",
              "      <td>3d99af81-c081-4d73-bc44-d3a8e639b22a</td>\n",
              "      <td>fe51c153-fbec-4b64-9b00-2530035ef0e1_b527eb36-...</td>\n",
              "      <td>Bills and Utilities</td>\n",
              "    </tr>\n",
              "    <tr>\n",
              "      <th>3</th>\n",
              "      <td>3</td>\n",
              "      <td>TIM HORTONS #990 _F</td>\n",
              "      <td>1.16</td>\n",
              "      <td>NaN</td>\n",
              "      <td>NaN</td>\n",
              "      <td>2018-10-09T15:30:00Z</td>\n",
              "      <td>fe51c153-fbec-4b64-9b00-2530035ef0e1_12bd4e47-...</td>\n",
              "      <td>7cc23aa6-0671-4c44-a1b5-b8a98d4bc5d4</td>\n",
              "      <td>fe51c153-fbec-4b64-9b00-2530035ef0e1_1185d0e2-...</td>\n",
              "      <td>Food and Dining</td>\n",
              "    </tr>\n",
              "    <tr>\n",
              "      <th>4</th>\n",
              "      <td>4</td>\n",
              "      <td>EMAIL TFR C0***oHp</td>\n",
              "      <td>41.00</td>\n",
              "      <td>NaN</td>\n",
              "      <td>NaN</td>\n",
              "      <td>2018-07-05T00:00:00.001Z</td>\n",
              "      <td>fe51c153-fbec-4b64-9b00-2530035ef0e1_fb97a9de-...</td>\n",
              "      <td>NaN</td>\n",
              "      <td>fe51c153-fbec-4b64-9b00-2530035ef0e1_bf889f32-...</td>\n",
              "      <td>Transfer</td>\n",
              "    </tr>\n",
              "  </tbody>\n",
              "</table>\n",
              "</div>\n",
              "      <button class=\"colab-df-convert\" onclick=\"convertToInteractive('df-41f50365-6d99-441d-bf66-47bb85c8c83a')\"\n",
              "              title=\"Convert this dataframe to an interactive table.\"\n",
              "              style=\"display:none;\">\n",
              "        \n",
              "  <svg xmlns=\"http://www.w3.org/2000/svg\" height=\"24px\"viewBox=\"0 0 24 24\"\n",
              "       width=\"24px\">\n",
              "    <path d=\"M0 0h24v24H0V0z\" fill=\"none\"/>\n",
              "    <path d=\"M18.56 5.44l.94 2.06.94-2.06 2.06-.94-2.06-.94-.94-2.06-.94 2.06-2.06.94zm-11 1L8.5 8.5l.94-2.06 2.06-.94-2.06-.94L8.5 2.5l-.94 2.06-2.06.94zm10 10l.94 2.06.94-2.06 2.06-.94-2.06-.94-.94-2.06-.94 2.06-2.06.94z\"/><path d=\"M17.41 7.96l-1.37-1.37c-.4-.4-.92-.59-1.43-.59-.52 0-1.04.2-1.43.59L10.3 9.45l-7.72 7.72c-.78.78-.78 2.05 0 2.83L4 21.41c.39.39.9.59 1.41.59.51 0 1.02-.2 1.41-.59l7.78-7.78 2.81-2.81c.8-.78.8-2.07 0-2.86zM5.41 20L4 18.59l7.72-7.72 1.47 1.35L5.41 20z\"/>\n",
              "  </svg>\n",
              "      </button>\n",
              "      \n",
              "  <style>\n",
              "    .colab-df-container {\n",
              "      display:flex;\n",
              "      flex-wrap:wrap;\n",
              "      gap: 12px;\n",
              "    }\n",
              "\n",
              "    .colab-df-convert {\n",
              "      background-color: #E8F0FE;\n",
              "      border: none;\n",
              "      border-radius: 50%;\n",
              "      cursor: pointer;\n",
              "      display: none;\n",
              "      fill: #1967D2;\n",
              "      height: 32px;\n",
              "      padding: 0 0 0 0;\n",
              "      width: 32px;\n",
              "    }\n",
              "\n",
              "    .colab-df-convert:hover {\n",
              "      background-color: #E2EBFA;\n",
              "      box-shadow: 0px 1px 2px rgba(60, 64, 67, 0.3), 0px 1px 3px 1px rgba(60, 64, 67, 0.15);\n",
              "      fill: #174EA6;\n",
              "    }\n",
              "\n",
              "    [theme=dark] .colab-df-convert {\n",
              "      background-color: #3B4455;\n",
              "      fill: #D2E3FC;\n",
              "    }\n",
              "\n",
              "    [theme=dark] .colab-df-convert:hover {\n",
              "      background-color: #434B5C;\n",
              "      box-shadow: 0px 1px 3px 1px rgba(0, 0, 0, 0.15);\n",
              "      filter: drop-shadow(0px 1px 2px rgba(0, 0, 0, 0.3));\n",
              "      fill: #FFFFFF;\n",
              "    }\n",
              "  </style>\n",
              "\n",
              "      <script>\n",
              "        const buttonEl =\n",
              "          document.querySelector('#df-41f50365-6d99-441d-bf66-47bb85c8c83a button.colab-df-convert');\n",
              "        buttonEl.style.display =\n",
              "          google.colab.kernel.accessAllowed ? 'block' : 'none';\n",
              "\n",
              "        async function convertToInteractive(key) {\n",
              "          const element = document.querySelector('#df-41f50365-6d99-441d-bf66-47bb85c8c83a');\n",
              "          const dataTable =\n",
              "            await google.colab.kernel.invokeFunction('convertToInteractive',\n",
              "                                                     [key], {});\n",
              "          if (!dataTable) return;\n",
              "\n",
              "          const docLinkHtml = 'Like what you see? Visit the ' +\n",
              "            '<a target=\"_blank\" href=https://colab.research.google.com/notebooks/data_table.ipynb>data table notebook</a>'\n",
              "            + ' to learn more about interactive tables.';\n",
              "          element.innerHTML = '';\n",
              "          dataTable['output_type'] = 'display_data';\n",
              "          await google.colab.output.renderOutput(dataTable, element);\n",
              "          const docLink = document.createElement('div');\n",
              "          docLink.innerHTML = docLinkHtml;\n",
              "          element.appendChild(docLink);\n",
              "        }\n",
              "      </script>\n",
              "    </div>\n",
              "  </div>\n",
              "  "
            ],
            "text/plain": [
              "   Unnamed: 0  ...         categoryTags\n",
              "0           0  ...               Income\n",
              "1           1  ...               Income\n",
              "2           2  ...  Bills and Utilities\n",
              "3           3  ...      Food and Dining\n",
              "4           4  ...             Transfer\n",
              "\n",
              "[5 rows x 10 columns]"
            ]
          },
          "metadata": {},
          "execution_count": 101
        }
      ]
    },
    {
      "cell_type": "markdown",
      "source": [
        "# Q1-What branch has the most number of customers?"
      ],
      "metadata": {
        "id": "LKnjA37KuEBA"
      }
    },
    {
      "cell_type": "code",
      "source": [
        "accts[\"branchNumber\"].value_counts()"
      ],
      "metadata": {
        "colab": {
          "base_uri": "https://localhost:8080/"
        },
        "id": "KFydyEq2trrO",
        "outputId": "3e9524c0-6927-4bb1-cee6-122076bf9bdb"
      },
      "execution_count": null,
      "outputs": [
        {
          "output_type": "execute_result",
          "data": {
            "text/plain": [
              "1029     302\n",
              "1512     228\n",
              "330      204\n",
              "392      180\n",
              "374      178\n",
              "        ... \n",
              "1277       4\n",
              "11237      2\n",
              "11372      2\n",
              "1802       2\n",
              "11453      2\n",
              "Name: branchNumber, Length: 175, dtype: int64"
            ]
          },
          "metadata": {},
          "execution_count": 132
        }
      ]
    },
    {
      "cell_type": "markdown",
      "source": [
        "# Q2-How old is the oldest customer as of 2019-07-01?"
      ],
      "metadata": {
        "id": "b6Pc_U_DuOlJ"
      }
    },
    {
      "cell_type": "code",
      "source": [
        "from datetime import datetime, date\n",
        "custs['birthDate']=custs['birthDate'].apply(pd.to_datetime)\n",
        "custs[\"age\"] = (pd.to_datetime(\"2019-07-01\") - custs[\"birthDate\"]).astype('<m8[Y]') #astype()啥意思，咋用？？\n",
        "# datetime ????\n",
        "custs[\"age\"].max()"
      ],
      "metadata": {
        "colab": {
          "base_uri": "https://localhost:8080/"
        },
        "id": "geCcHLZLngE0",
        "outputId": "4b5b1d80-5b4c-40ba-8642-24c9cd7f85bc"
      },
      "execution_count": null,
      "outputs": [
        {
          "output_type": "execute_result",
          "data": {
            "text/plain": [
              "106.0"
            ]
          },
          "metadata": {},
          "execution_count": 20
        }
      ]
    },
    {
      "cell_type": "markdown",
      "source": [
        "# Q3-How many accounts does the oldest customer have?"
      ],
      "metadata": {
        "id": "BjYgzRnArINF"
      }
    },
    {
      "cell_type": "code",
      "source": [
        "custs[custs[\"age\"]==106]"
      ],
      "metadata": {
        "colab": {
          "base_uri": "https://localhost:8080/",
          "height": 228
        },
        "id": "PshammYSpO1z",
        "outputId": "37cb2057-fc6f-49ee-8256-67799dcfb69f"
      },
      "execution_count": null,
      "outputs": [
        {
          "output_type": "execute_result",
          "data": {
            "text/html": [
              "\n",
              "  <div id=\"df-2c144926-eccd-4082-bd2d-e4a316e61d92\">\n",
              "    <div class=\"colab-df-container\">\n",
              "      <div>\n",
              "<style scoped>\n",
              "    .dataframe tbody tr th:only-of-type {\n",
              "        vertical-align: middle;\n",
              "    }\n",
              "\n",
              "    .dataframe tbody tr th {\n",
              "        vertical-align: top;\n",
              "    }\n",
              "\n",
              "    .dataframe thead th {\n",
              "        text-align: right;\n",
              "    }\n",
              "</style>\n",
              "<table border=\"1\" class=\"dataframe\">\n",
              "  <thead>\n",
              "    <tr style=\"text-align: right;\">\n",
              "      <th></th>\n",
              "      <th>Unnamed: 0</th>\n",
              "      <th>id</th>\n",
              "      <th>type</th>\n",
              "      <th>gender</th>\n",
              "      <th>birthDate</th>\n",
              "      <th>workActivity</th>\n",
              "      <th>occupationIndustry</th>\n",
              "      <th>totalIncome</th>\n",
              "      <th>relationshipStatus</th>\n",
              "      <th>habitationStatus</th>\n",
              "      <th>addresses_principalResidence_province</th>\n",
              "      <th>schoolAttendance</th>\n",
              "      <th>schools</th>\n",
              "      <th>age</th>\n",
              "    </tr>\n",
              "  </thead>\n",
              "  <tbody>\n",
              "    <tr>\n",
              "      <th>2146</th>\n",
              "      <td>2146</td>\n",
              "      <td>fe51c153-fbec-4b64-9b00-2530035ef0e1_522519ff-...</td>\n",
              "      <td>Personal</td>\n",
              "      <td>Female</td>\n",
              "      <td>1912-10-22</td>\n",
              "      <td>NaN</td>\n",
              "      <td>Retired</td>\n",
              "      <td>52652.6</td>\n",
              "      <td>Widowed</td>\n",
              "      <td>NaN</td>\n",
              "      <td>ON</td>\n",
              "      <td>NaN</td>\n",
              "      <td>NaN</td>\n",
              "      <td>106.0</td>\n",
              "    </tr>\n",
              "    <tr>\n",
              "      <th>5241</th>\n",
              "      <td>5241</td>\n",
              "      <td>fe51c153-fbec-4b64-9b00-2530035ef0e1_3e49a7de-...</td>\n",
              "      <td>Personal</td>\n",
              "      <td>Other</td>\n",
              "      <td>1913-04-04</td>\n",
              "      <td>NaN</td>\n",
              "      <td>Retired</td>\n",
              "      <td>62953.1</td>\n",
              "      <td>Widowed</td>\n",
              "      <td>Group</td>\n",
              "      <td>ON</td>\n",
              "      <td>NaN</td>\n",
              "      <td>NaN</td>\n",
              "      <td>106.0</td>\n",
              "    </tr>\n",
              "  </tbody>\n",
              "</table>\n",
              "</div>\n",
              "      <button class=\"colab-df-convert\" onclick=\"convertToInteractive('df-2c144926-eccd-4082-bd2d-e4a316e61d92')\"\n",
              "              title=\"Convert this dataframe to an interactive table.\"\n",
              "              style=\"display:none;\">\n",
              "        \n",
              "  <svg xmlns=\"http://www.w3.org/2000/svg\" height=\"24px\"viewBox=\"0 0 24 24\"\n",
              "       width=\"24px\">\n",
              "    <path d=\"M0 0h24v24H0V0z\" fill=\"none\"/>\n",
              "    <path d=\"M18.56 5.44l.94 2.06.94-2.06 2.06-.94-2.06-.94-.94-2.06-.94 2.06-2.06.94zm-11 1L8.5 8.5l.94-2.06 2.06-.94-2.06-.94L8.5 2.5l-.94 2.06-2.06.94zm10 10l.94 2.06.94-2.06 2.06-.94-2.06-.94-.94-2.06-.94 2.06-2.06.94z\"/><path d=\"M17.41 7.96l-1.37-1.37c-.4-.4-.92-.59-1.43-.59-.52 0-1.04.2-1.43.59L10.3 9.45l-7.72 7.72c-.78.78-.78 2.05 0 2.83L4 21.41c.39.39.9.59 1.41.59.51 0 1.02-.2 1.41-.59l7.78-7.78 2.81-2.81c.8-.78.8-2.07 0-2.86zM5.41 20L4 18.59l7.72-7.72 1.47 1.35L5.41 20z\"/>\n",
              "  </svg>\n",
              "      </button>\n",
              "      \n",
              "  <style>\n",
              "    .colab-df-container {\n",
              "      display:flex;\n",
              "      flex-wrap:wrap;\n",
              "      gap: 12px;\n",
              "    }\n",
              "\n",
              "    .colab-df-convert {\n",
              "      background-color: #E8F0FE;\n",
              "      border: none;\n",
              "      border-radius: 50%;\n",
              "      cursor: pointer;\n",
              "      display: none;\n",
              "      fill: #1967D2;\n",
              "      height: 32px;\n",
              "      padding: 0 0 0 0;\n",
              "      width: 32px;\n",
              "    }\n",
              "\n",
              "    .colab-df-convert:hover {\n",
              "      background-color: #E2EBFA;\n",
              "      box-shadow: 0px 1px 2px rgba(60, 64, 67, 0.3), 0px 1px 3px 1px rgba(60, 64, 67, 0.15);\n",
              "      fill: #174EA6;\n",
              "    }\n",
              "\n",
              "    [theme=dark] .colab-df-convert {\n",
              "      background-color: #3B4455;\n",
              "      fill: #D2E3FC;\n",
              "    }\n",
              "\n",
              "    [theme=dark] .colab-df-convert:hover {\n",
              "      background-color: #434B5C;\n",
              "      box-shadow: 0px 1px 3px 1px rgba(0, 0, 0, 0.15);\n",
              "      filter: drop-shadow(0px 1px 2px rgba(0, 0, 0, 0.3));\n",
              "      fill: #FFFFFF;\n",
              "    }\n",
              "  </style>\n",
              "\n",
              "      <script>\n",
              "        const buttonEl =\n",
              "          document.querySelector('#df-2c144926-eccd-4082-bd2d-e4a316e61d92 button.colab-df-convert');\n",
              "        buttonEl.style.display =\n",
              "          google.colab.kernel.accessAllowed ? 'block' : 'none';\n",
              "\n",
              "        async function convertToInteractive(key) {\n",
              "          const element = document.querySelector('#df-2c144926-eccd-4082-bd2d-e4a316e61d92');\n",
              "          const dataTable =\n",
              "            await google.colab.kernel.invokeFunction('convertToInteractive',\n",
              "                                                     [key], {});\n",
              "          if (!dataTable) return;\n",
              "\n",
              "          const docLinkHtml = 'Like what you see? Visit the ' +\n",
              "            '<a target=\"_blank\" href=https://colab.research.google.com/notebooks/data_table.ipynb>data table notebook</a>'\n",
              "            + ' to learn more about interactive tables.';\n",
              "          element.innerHTML = '';\n",
              "          dataTable['output_type'] = 'display_data';\n",
              "          await google.colab.output.renderOutput(dataTable, element);\n",
              "          const docLink = document.createElement('div');\n",
              "          docLink.innerHTML = docLinkHtml;\n",
              "          element.appendChild(docLink);\n",
              "        }\n",
              "      </script>\n",
              "    </div>\n",
              "  </div>\n",
              "  "
            ],
            "text/plain": [
              "      Unnamed: 0  ...    age\n",
              "2146        2146  ...  106.0\n",
              "5241        5241  ...  106.0\n",
              "\n",
              "[2 rows x 14 columns]"
            ]
          },
          "metadata": {},
          "execution_count": 91
        }
      ]
    },
    {
      "cell_type": "code",
      "source": [
        "accts[accts[\"cust_id\"]==\"fe51c153-fbec-4b64-9b00-2530035ef0e1_522519ff-5e56-4d8a-9888-560f2cde4938\"]"
      ],
      "metadata": {
        "colab": {
          "base_uri": "https://localhost:8080/",
          "height": 112
        },
        "id": "b2Iq0YO2qHjM",
        "outputId": "f0b0ce6f-567b-4b05-d0af-f0555c7d8acc"
      },
      "execution_count": null,
      "outputs": [
        {
          "output_type": "execute_result",
          "data": {
            "text/html": [
              "\n",
              "  <div id=\"df-87b4ee9b-cce0-4f2c-89f2-f95603e8bde6\">\n",
              "    <div class=\"colab-df-container\">\n",
              "      <div>\n",
              "<style scoped>\n",
              "    .dataframe tbody tr th:only-of-type {\n",
              "        vertical-align: middle;\n",
              "    }\n",
              "\n",
              "    .dataframe tbody tr th {\n",
              "        vertical-align: top;\n",
              "    }\n",
              "\n",
              "    .dataframe thead th {\n",
              "        text-align: right;\n",
              "    }\n",
              "</style>\n",
              "<table border=\"1\" class=\"dataframe\">\n",
              "  <thead>\n",
              "    <tr style=\"text-align: right;\">\n",
              "      <th></th>\n",
              "      <th>Unnamed: 0</th>\n",
              "      <th>branchNumber</th>\n",
              "      <th>type</th>\n",
              "      <th>openDate</th>\n",
              "      <th>id</th>\n",
              "      <th>iban</th>\n",
              "      <th>balance</th>\n",
              "      <th>currency</th>\n",
              "      <th>cust_id</th>\n",
              "    </tr>\n",
              "  </thead>\n",
              "  <tbody>\n",
              "    <tr>\n",
              "      <th>3956</th>\n",
              "      <td>3956</td>\n",
              "      <td>1512</td>\n",
              "      <td>DDA</td>\n",
              "      <td>3/1/2018</td>\n",
              "      <td>fe51c153-fbec-4b64-9b00-2530035ef0e1_cbe429f1-...</td>\n",
              "      <td>NaN</td>\n",
              "      <td>-10878.33</td>\n",
              "      <td>CAD</td>\n",
              "      <td>fe51c153-fbec-4b64-9b00-2530035ef0e1_522519ff-...</td>\n",
              "    </tr>\n",
              "    <tr>\n",
              "      <th>3957</th>\n",
              "      <td>3957</td>\n",
              "      <td>1512</td>\n",
              "      <td>SDA</td>\n",
              "      <td>3/1/2018</td>\n",
              "      <td>fe51c153-fbec-4b64-9b00-2530035ef0e1_d8819f65-...</td>\n",
              "      <td>NaN</td>\n",
              "      <td>21061.04</td>\n",
              "      <td>CAD</td>\n",
              "      <td>fe51c153-fbec-4b64-9b00-2530035ef0e1_522519ff-...</td>\n",
              "    </tr>\n",
              "  </tbody>\n",
              "</table>\n",
              "</div>\n",
              "      <button class=\"colab-df-convert\" onclick=\"convertToInteractive('df-87b4ee9b-cce0-4f2c-89f2-f95603e8bde6')\"\n",
              "              title=\"Convert this dataframe to an interactive table.\"\n",
              "              style=\"display:none;\">\n",
              "        \n",
              "  <svg xmlns=\"http://www.w3.org/2000/svg\" height=\"24px\"viewBox=\"0 0 24 24\"\n",
              "       width=\"24px\">\n",
              "    <path d=\"M0 0h24v24H0V0z\" fill=\"none\"/>\n",
              "    <path d=\"M18.56 5.44l.94 2.06.94-2.06 2.06-.94-2.06-.94-.94-2.06-.94 2.06-2.06.94zm-11 1L8.5 8.5l.94-2.06 2.06-.94-2.06-.94L8.5 2.5l-.94 2.06-2.06.94zm10 10l.94 2.06.94-2.06 2.06-.94-2.06-.94-.94-2.06-.94 2.06-2.06.94z\"/><path d=\"M17.41 7.96l-1.37-1.37c-.4-.4-.92-.59-1.43-.59-.52 0-1.04.2-1.43.59L10.3 9.45l-7.72 7.72c-.78.78-.78 2.05 0 2.83L4 21.41c.39.39.9.59 1.41.59.51 0 1.02-.2 1.41-.59l7.78-7.78 2.81-2.81c.8-.78.8-2.07 0-2.86zM5.41 20L4 18.59l7.72-7.72 1.47 1.35L5.41 20z\"/>\n",
              "  </svg>\n",
              "      </button>\n",
              "      \n",
              "  <style>\n",
              "    .colab-df-container {\n",
              "      display:flex;\n",
              "      flex-wrap:wrap;\n",
              "      gap: 12px;\n",
              "    }\n",
              "\n",
              "    .colab-df-convert {\n",
              "      background-color: #E8F0FE;\n",
              "      border: none;\n",
              "      border-radius: 50%;\n",
              "      cursor: pointer;\n",
              "      display: none;\n",
              "      fill: #1967D2;\n",
              "      height: 32px;\n",
              "      padding: 0 0 0 0;\n",
              "      width: 32px;\n",
              "    }\n",
              "\n",
              "    .colab-df-convert:hover {\n",
              "      background-color: #E2EBFA;\n",
              "      box-shadow: 0px 1px 2px rgba(60, 64, 67, 0.3), 0px 1px 3px 1px rgba(60, 64, 67, 0.15);\n",
              "      fill: #174EA6;\n",
              "    }\n",
              "\n",
              "    [theme=dark] .colab-df-convert {\n",
              "      background-color: #3B4455;\n",
              "      fill: #D2E3FC;\n",
              "    }\n",
              "\n",
              "    [theme=dark] .colab-df-convert:hover {\n",
              "      background-color: #434B5C;\n",
              "      box-shadow: 0px 1px 3px 1px rgba(0, 0, 0, 0.15);\n",
              "      filter: drop-shadow(0px 1px 2px rgba(0, 0, 0, 0.3));\n",
              "      fill: #FFFFFF;\n",
              "    }\n",
              "  </style>\n",
              "\n",
              "      <script>\n",
              "        const buttonEl =\n",
              "          document.querySelector('#df-87b4ee9b-cce0-4f2c-89f2-f95603e8bde6 button.colab-df-convert');\n",
              "        buttonEl.style.display =\n",
              "          google.colab.kernel.accessAllowed ? 'block' : 'none';\n",
              "\n",
              "        async function convertToInteractive(key) {\n",
              "          const element = document.querySelector('#df-87b4ee9b-cce0-4f2c-89f2-f95603e8bde6');\n",
              "          const dataTable =\n",
              "            await google.colab.kernel.invokeFunction('convertToInteractive',\n",
              "                                                     [key], {});\n",
              "          if (!dataTable) return;\n",
              "\n",
              "          const docLinkHtml = 'Like what you see? Visit the ' +\n",
              "            '<a target=\"_blank\" href=https://colab.research.google.com/notebooks/data_table.ipynb>data table notebook</a>'\n",
              "            + ' to learn more about interactive tables.';\n",
              "          element.innerHTML = '';\n",
              "          dataTable['output_type'] = 'display_data';\n",
              "          await google.colab.output.renderOutput(dataTable, element);\n",
              "          const docLink = document.createElement('div');\n",
              "          docLink.innerHTML = docLinkHtml;\n",
              "          element.appendChild(docLink);\n",
              "        }\n",
              "      </script>\n",
              "    </div>\n",
              "  </div>\n",
              "  "
            ],
            "text/plain": [
              "      Unnamed: 0  ...                                            cust_id\n",
              "3956        3956  ...  fe51c153-fbec-4b64-9b00-2530035ef0e1_522519ff-...\n",
              "3957        3957  ...  fe51c153-fbec-4b64-9b00-2530035ef0e1_522519ff-...\n",
              "\n",
              "[2 rows x 9 columns]"
            ]
          },
          "metadata": {},
          "execution_count": 92
        }
      ]
    },
    {
      "cell_type": "code",
      "source": [
        "accts[accts[\"cust_id\"]==\"fe51c153-fbec-4b64-9b00-2530035ef0e1_3e49a7de-d1c6-4877-9686-057a5c020cfc\"]"
      ],
      "metadata": {
        "colab": {
          "base_uri": "https://localhost:8080/",
          "height": 112
        },
        "id": "wg82aowqq5eU",
        "outputId": "ebde8412-a61d-430f-db89-ec3329bb6ded"
      },
      "execution_count": null,
      "outputs": [
        {
          "output_type": "execute_result",
          "data": {
            "text/html": [
              "\n",
              "  <div id=\"df-f5d64b8e-48b6-4cc4-af78-d0bc198f0fec\">\n",
              "    <div class=\"colab-df-container\">\n",
              "      <div>\n",
              "<style scoped>\n",
              "    .dataframe tbody tr th:only-of-type {\n",
              "        vertical-align: middle;\n",
              "    }\n",
              "\n",
              "    .dataframe tbody tr th {\n",
              "        vertical-align: top;\n",
              "    }\n",
              "\n",
              "    .dataframe thead th {\n",
              "        text-align: right;\n",
              "    }\n",
              "</style>\n",
              "<table border=\"1\" class=\"dataframe\">\n",
              "  <thead>\n",
              "    <tr style=\"text-align: right;\">\n",
              "      <th></th>\n",
              "      <th>Unnamed: 0</th>\n",
              "      <th>branchNumber</th>\n",
              "      <th>type</th>\n",
              "      <th>openDate</th>\n",
              "      <th>id</th>\n",
              "      <th>iban</th>\n",
              "      <th>balance</th>\n",
              "      <th>currency</th>\n",
              "      <th>cust_id</th>\n",
              "    </tr>\n",
              "  </thead>\n",
              "  <tbody>\n",
              "    <tr>\n",
              "      <th>5722</th>\n",
              "      <td>5722</td>\n",
              "      <td>1592</td>\n",
              "      <td>DDA</td>\n",
              "      <td>3/1/2018</td>\n",
              "      <td>fe51c153-fbec-4b64-9b00-2530035ef0e1_0594a24b-...</td>\n",
              "      <td>NaN</td>\n",
              "      <td>39636.71</td>\n",
              "      <td>CAD</td>\n",
              "      <td>fe51c153-fbec-4b64-9b00-2530035ef0e1_3e49a7de-...</td>\n",
              "    </tr>\n",
              "    <tr>\n",
              "      <th>5723</th>\n",
              "      <td>5723</td>\n",
              "      <td>1592</td>\n",
              "      <td>SDA</td>\n",
              "      <td>3/1/2018</td>\n",
              "      <td>fe51c153-fbec-4b64-9b00-2530035ef0e1_d02d2301-...</td>\n",
              "      <td>NaN</td>\n",
              "      <td>25381.24</td>\n",
              "      <td>CAD</td>\n",
              "      <td>fe51c153-fbec-4b64-9b00-2530035ef0e1_3e49a7de-...</td>\n",
              "    </tr>\n",
              "  </tbody>\n",
              "</table>\n",
              "</div>\n",
              "      <button class=\"colab-df-convert\" onclick=\"convertToInteractive('df-f5d64b8e-48b6-4cc4-af78-d0bc198f0fec')\"\n",
              "              title=\"Convert this dataframe to an interactive table.\"\n",
              "              style=\"display:none;\">\n",
              "        \n",
              "  <svg xmlns=\"http://www.w3.org/2000/svg\" height=\"24px\"viewBox=\"0 0 24 24\"\n",
              "       width=\"24px\">\n",
              "    <path d=\"M0 0h24v24H0V0z\" fill=\"none\"/>\n",
              "    <path d=\"M18.56 5.44l.94 2.06.94-2.06 2.06-.94-2.06-.94-.94-2.06-.94 2.06-2.06.94zm-11 1L8.5 8.5l.94-2.06 2.06-.94-2.06-.94L8.5 2.5l-.94 2.06-2.06.94zm10 10l.94 2.06.94-2.06 2.06-.94-2.06-.94-.94-2.06-.94 2.06-2.06.94z\"/><path d=\"M17.41 7.96l-1.37-1.37c-.4-.4-.92-.59-1.43-.59-.52 0-1.04.2-1.43.59L10.3 9.45l-7.72 7.72c-.78.78-.78 2.05 0 2.83L4 21.41c.39.39.9.59 1.41.59.51 0 1.02-.2 1.41-.59l7.78-7.78 2.81-2.81c.8-.78.8-2.07 0-2.86zM5.41 20L4 18.59l7.72-7.72 1.47 1.35L5.41 20z\"/>\n",
              "  </svg>\n",
              "      </button>\n",
              "      \n",
              "  <style>\n",
              "    .colab-df-container {\n",
              "      display:flex;\n",
              "      flex-wrap:wrap;\n",
              "      gap: 12px;\n",
              "    }\n",
              "\n",
              "    .colab-df-convert {\n",
              "      background-color: #E8F0FE;\n",
              "      border: none;\n",
              "      border-radius: 50%;\n",
              "      cursor: pointer;\n",
              "      display: none;\n",
              "      fill: #1967D2;\n",
              "      height: 32px;\n",
              "      padding: 0 0 0 0;\n",
              "      width: 32px;\n",
              "    }\n",
              "\n",
              "    .colab-df-convert:hover {\n",
              "      background-color: #E2EBFA;\n",
              "      box-shadow: 0px 1px 2px rgba(60, 64, 67, 0.3), 0px 1px 3px 1px rgba(60, 64, 67, 0.15);\n",
              "      fill: #174EA6;\n",
              "    }\n",
              "\n",
              "    [theme=dark] .colab-df-convert {\n",
              "      background-color: #3B4455;\n",
              "      fill: #D2E3FC;\n",
              "    }\n",
              "\n",
              "    [theme=dark] .colab-df-convert:hover {\n",
              "      background-color: #434B5C;\n",
              "      box-shadow: 0px 1px 3px 1px rgba(0, 0, 0, 0.15);\n",
              "      filter: drop-shadow(0px 1px 2px rgba(0, 0, 0, 0.3));\n",
              "      fill: #FFFFFF;\n",
              "    }\n",
              "  </style>\n",
              "\n",
              "      <script>\n",
              "        const buttonEl =\n",
              "          document.querySelector('#df-f5d64b8e-48b6-4cc4-af78-d0bc198f0fec button.colab-df-convert');\n",
              "        buttonEl.style.display =\n",
              "          google.colab.kernel.accessAllowed ? 'block' : 'none';\n",
              "\n",
              "        async function convertToInteractive(key) {\n",
              "          const element = document.querySelector('#df-f5d64b8e-48b6-4cc4-af78-d0bc198f0fec');\n",
              "          const dataTable =\n",
              "            await google.colab.kernel.invokeFunction('convertToInteractive',\n",
              "                                                     [key], {});\n",
              "          if (!dataTable) return;\n",
              "\n",
              "          const docLinkHtml = 'Like what you see? Visit the ' +\n",
              "            '<a target=\"_blank\" href=https://colab.research.google.com/notebooks/data_table.ipynb>data table notebook</a>'\n",
              "            + ' to learn more about interactive tables.';\n",
              "          element.innerHTML = '';\n",
              "          dataTable['output_type'] = 'display_data';\n",
              "          await google.colab.output.renderOutput(dataTable, element);\n",
              "          const docLink = document.createElement('div');\n",
              "          docLink.innerHTML = docLinkHtml;\n",
              "          element.appendChild(docLink);\n",
              "        }\n",
              "      </script>\n",
              "    </div>\n",
              "  </div>\n",
              "  "
            ],
            "text/plain": [
              "      Unnamed: 0  ...                                            cust_id\n",
              "5722        5722  ...  fe51c153-fbec-4b64-9b00-2530035ef0e1_3e49a7de-...\n",
              "5723        5723  ...  fe51c153-fbec-4b64-9b00-2530035ef0e1_3e49a7de-...\n",
              "\n",
              "[2 rows x 9 columns]"
            ]
          },
          "metadata": {},
          "execution_count": 93
        }
      ]
    },
    {
      "cell_type": "markdown",
      "source": [
        "# Q4-How many transactions went to Starbucks in April?"
      ],
      "metadata": {
        "id": "cG0Qmt_YrntO"
      }
    },
    {
      "cell_type": "code",
      "source": [
        "tx[tx[\"description\"].str.contains(\"STARBUCKS\")&tx[\"originationDateTime\"].str.contains(\"2018-04\")]"
      ],
      "metadata": {
        "colab": {
          "base_uri": "https://localhost:8080/",
          "height": 659
        },
        "id": "SuqEKnrvsJRw",
        "outputId": "e430cc61-f40c-400a-f6d6-2ae5d6d43dfb"
      },
      "execution_count": null,
      "outputs": [
        {
          "output_type": "execute_result",
          "data": {
            "text/html": [
              "\n",
              "  <div id=\"df-8a0bf408-fdb8-49fb-bb3e-4f46d0541c3c\">\n",
              "    <div class=\"colab-df-container\">\n",
              "      <div>\n",
              "<style scoped>\n",
              "    .dataframe tbody tr th:only-of-type {\n",
              "        vertical-align: middle;\n",
              "    }\n",
              "\n",
              "    .dataframe tbody tr th {\n",
              "        vertical-align: top;\n",
              "    }\n",
              "\n",
              "    .dataframe thead th {\n",
              "        text-align: right;\n",
              "    }\n",
              "</style>\n",
              "<table border=\"1\" class=\"dataframe\">\n",
              "  <thead>\n",
              "    <tr style=\"text-align: right;\">\n",
              "      <th></th>\n",
              "      <th>Unnamed: 0</th>\n",
              "      <th>description</th>\n",
              "      <th>currencyAmount</th>\n",
              "      <th>locationRegion</th>\n",
              "      <th>locationCity</th>\n",
              "      <th>originationDateTime</th>\n",
              "      <th>customerId</th>\n",
              "      <th>merchantId</th>\n",
              "      <th>accountId</th>\n",
              "      <th>categoryTags</th>\n",
              "    </tr>\n",
              "  </thead>\n",
              "  <tbody>\n",
              "    <tr>\n",
              "      <th>117</th>\n",
              "      <td>117</td>\n",
              "      <td>STARBUCKS #21387</td>\n",
              "      <td>5.40</td>\n",
              "      <td>NaN</td>\n",
              "      <td>NaN</td>\n",
              "      <td>2018-04-03T07:25:00Z</td>\n",
              "      <td>fe51c153-fbec-4b64-9b00-2530035ef0e1_f3e9ac5c-...</td>\n",
              "      <td>eabb92a0-de8b-4dba-8028-583eb3ce8d97</td>\n",
              "      <td>fe51c153-fbec-4b64-9b00-2530035ef0e1_9da9bd36-...</td>\n",
              "      <td>Food and Dining</td>\n",
              "    </tr>\n",
              "    <tr>\n",
              "      <th>504</th>\n",
              "      <td>504</td>\n",
              "      <td>STARBUCKS #4711</td>\n",
              "      <td>1.52</td>\n",
              "      <td>NaN</td>\n",
              "      <td>NaN</td>\n",
              "      <td>2018-04-20T14:23:00Z</td>\n",
              "      <td>fe51c153-fbec-4b64-9b00-2530035ef0e1_bbc8b795-...</td>\n",
              "      <td>3b7a8aa8-970a-4e82-b2af-89521c0dabb8</td>\n",
              "      <td>fe51c153-fbec-4b64-9b00-2530035ef0e1_079876bf-...</td>\n",
              "      <td>Food and Dining</td>\n",
              "    </tr>\n",
              "    <tr>\n",
              "      <th>786</th>\n",
              "      <td>786</td>\n",
              "      <td>STARBUCKS #21387</td>\n",
              "      <td>2.55</td>\n",
              "      <td>NaN</td>\n",
              "      <td>NaN</td>\n",
              "      <td>2018-04-13T16:25:00Z</td>\n",
              "      <td>fe51c153-fbec-4b64-9b00-2530035ef0e1_52f0a4e7-...</td>\n",
              "      <td>eabb92a0-de8b-4dba-8028-583eb3ce8d97</td>\n",
              "      <td>fe51c153-fbec-4b64-9b00-2530035ef0e1_bcc0a3ee-...</td>\n",
              "      <td>Food and Dining</td>\n",
              "    </tr>\n",
              "    <tr>\n",
              "      <th>913</th>\n",
              "      <td>913</td>\n",
              "      <td>STARBUCKS #16997</td>\n",
              "      <td>1.46</td>\n",
              "      <td>NaN</td>\n",
              "      <td>NaN</td>\n",
              "      <td>2018-04-06T08:33:00Z</td>\n",
              "      <td>fe51c153-fbec-4b64-9b00-2530035ef0e1_3bd772c4-...</td>\n",
              "      <td>1ac41e37-67db-48ec-9f2d-509c76363ccf</td>\n",
              "      <td>fe51c153-fbec-4b64-9b00-2530035ef0e1_8b9e8d96-...</td>\n",
              "      <td>Food and Dining</td>\n",
              "    </tr>\n",
              "    <tr>\n",
              "      <th>977</th>\n",
              "      <td>977</td>\n",
              "      <td>STARBUCKS #25829</td>\n",
              "      <td>5.09</td>\n",
              "      <td>NaN</td>\n",
              "      <td>NaN</td>\n",
              "      <td>2018-04-27T10:02:00Z</td>\n",
              "      <td>fe51c153-fbec-4b64-9b00-2530035ef0e1_77480f82-...</td>\n",
              "      <td>d2e9fc18-b6a8-4014-8d1a-0886479dae50</td>\n",
              "      <td>fe51c153-fbec-4b64-9b00-2530035ef0e1_ef6903e5-...</td>\n",
              "      <td>Food and Dining</td>\n",
              "    </tr>\n",
              "    <tr>\n",
              "      <th>...</th>\n",
              "      <td>...</td>\n",
              "      <td>...</td>\n",
              "      <td>...</td>\n",
              "      <td>...</td>\n",
              "      <td>...</td>\n",
              "      <td>...</td>\n",
              "      <td>...</td>\n",
              "      <td>...</td>\n",
              "      <td>...</td>\n",
              "      <td>...</td>\n",
              "    </tr>\n",
              "    <tr>\n",
              "      <th>90567</th>\n",
              "      <td>90567</td>\n",
              "      <td>STARBUCKS #29957</td>\n",
              "      <td>5.07</td>\n",
              "      <td>NaN</td>\n",
              "      <td>NaN</td>\n",
              "      <td>2018-04-10T18:53:00Z</td>\n",
              "      <td>fe51c153-fbec-4b64-9b00-2530035ef0e1_806b0d25-...</td>\n",
              "      <td>99cc7026-c1d6-4787-81a6-0fdf6a493362</td>\n",
              "      <td>fe51c153-fbec-4b64-9b00-2530035ef0e1_f59e4d09-...</td>\n",
              "      <td>Food and Dining</td>\n",
              "    </tr>\n",
              "    <tr>\n",
              "      <th>90850</th>\n",
              "      <td>90850</td>\n",
              "      <td>STARBUCKS #4208</td>\n",
              "      <td>6.52</td>\n",
              "      <td>NaN</td>\n",
              "      <td>NaN</td>\n",
              "      <td>2018-04-11T08:58:00Z</td>\n",
              "      <td>fe51c153-fbec-4b64-9b00-2530035ef0e1_9e304a40-...</td>\n",
              "      <td>6ed29f17-d599-41e4-a9fd-e3ba45f00ec7</td>\n",
              "      <td>fe51c153-fbec-4b64-9b00-2530035ef0e1_fb1715fb-...</td>\n",
              "      <td>Food and Dining</td>\n",
              "    </tr>\n",
              "    <tr>\n",
              "      <th>91888</th>\n",
              "      <td>91888</td>\n",
              "      <td>STARBUCKS #4226</td>\n",
              "      <td>6.22</td>\n",
              "      <td>NaN</td>\n",
              "      <td>NaN</td>\n",
              "      <td>2018-04-24T19:38:00Z</td>\n",
              "      <td>fe51c153-fbec-4b64-9b00-2530035ef0e1_d89f8e00-...</td>\n",
              "      <td>638d6653-862c-4f49-88ac-34e238cdefe0</td>\n",
              "      <td>fe51c153-fbec-4b64-9b00-2530035ef0e1_08fdac23-...</td>\n",
              "      <td>Food and Dining</td>\n",
              "    </tr>\n",
              "    <tr>\n",
              "      <th>91900</th>\n",
              "      <td>91900</td>\n",
              "      <td>STARBUCKS #4254</td>\n",
              "      <td>6.15</td>\n",
              "      <td>NaN</td>\n",
              "      <td>NaN</td>\n",
              "      <td>2018-04-27T14:06:00Z</td>\n",
              "      <td>fe51c153-fbec-4b64-9b00-2530035ef0e1_81a0f251-...</td>\n",
              "      <td>9bdd6b0d-60cb-402e-9974-797404428ed3</td>\n",
              "      <td>fe51c153-fbec-4b64-9b00-2530035ef0e1_421c5733-...</td>\n",
              "      <td>Food and Dining</td>\n",
              "    </tr>\n",
              "    <tr>\n",
              "      <th>92091</th>\n",
              "      <td>92091</td>\n",
              "      <td>STARBUCKS #4402</td>\n",
              "      <td>3.92</td>\n",
              "      <td>NaN</td>\n",
              "      <td>NaN</td>\n",
              "      <td>2018-04-17T09:43:00Z</td>\n",
              "      <td>fe51c153-fbec-4b64-9b00-2530035ef0e1_6bf634d9-...</td>\n",
              "      <td>6d4aa9ce-c76d-4f9b-b77f-23eb3827267d</td>\n",
              "      <td>fe51c153-fbec-4b64-9b00-2530035ef0e1_4838ecd3-...</td>\n",
              "      <td>Food and Dining</td>\n",
              "    </tr>\n",
              "  </tbody>\n",
              "</table>\n",
              "<p>395 rows × 10 columns</p>\n",
              "</div>\n",
              "      <button class=\"colab-df-convert\" onclick=\"convertToInteractive('df-8a0bf408-fdb8-49fb-bb3e-4f46d0541c3c')\"\n",
              "              title=\"Convert this dataframe to an interactive table.\"\n",
              "              style=\"display:none;\">\n",
              "        \n",
              "  <svg xmlns=\"http://www.w3.org/2000/svg\" height=\"24px\"viewBox=\"0 0 24 24\"\n",
              "       width=\"24px\">\n",
              "    <path d=\"M0 0h24v24H0V0z\" fill=\"none\"/>\n",
              "    <path d=\"M18.56 5.44l.94 2.06.94-2.06 2.06-.94-2.06-.94-.94-2.06-.94 2.06-2.06.94zm-11 1L8.5 8.5l.94-2.06 2.06-.94-2.06-.94L8.5 2.5l-.94 2.06-2.06.94zm10 10l.94 2.06.94-2.06 2.06-.94-2.06-.94-.94-2.06-.94 2.06-2.06.94z\"/><path d=\"M17.41 7.96l-1.37-1.37c-.4-.4-.92-.59-1.43-.59-.52 0-1.04.2-1.43.59L10.3 9.45l-7.72 7.72c-.78.78-.78 2.05 0 2.83L4 21.41c.39.39.9.59 1.41.59.51 0 1.02-.2 1.41-.59l7.78-7.78 2.81-2.81c.8-.78.8-2.07 0-2.86zM5.41 20L4 18.59l7.72-7.72 1.47 1.35L5.41 20z\"/>\n",
              "  </svg>\n",
              "      </button>\n",
              "      \n",
              "  <style>\n",
              "    .colab-df-container {\n",
              "      display:flex;\n",
              "      flex-wrap:wrap;\n",
              "      gap: 12px;\n",
              "    }\n",
              "\n",
              "    .colab-df-convert {\n",
              "      background-color: #E8F0FE;\n",
              "      border: none;\n",
              "      border-radius: 50%;\n",
              "      cursor: pointer;\n",
              "      display: none;\n",
              "      fill: #1967D2;\n",
              "      height: 32px;\n",
              "      padding: 0 0 0 0;\n",
              "      width: 32px;\n",
              "    }\n",
              "\n",
              "    .colab-df-convert:hover {\n",
              "      background-color: #E2EBFA;\n",
              "      box-shadow: 0px 1px 2px rgba(60, 64, 67, 0.3), 0px 1px 3px 1px rgba(60, 64, 67, 0.15);\n",
              "      fill: #174EA6;\n",
              "    }\n",
              "\n",
              "    [theme=dark] .colab-df-convert {\n",
              "      background-color: #3B4455;\n",
              "      fill: #D2E3FC;\n",
              "    }\n",
              "\n",
              "    [theme=dark] .colab-df-convert:hover {\n",
              "      background-color: #434B5C;\n",
              "      box-shadow: 0px 1px 3px 1px rgba(0, 0, 0, 0.15);\n",
              "      filter: drop-shadow(0px 1px 2px rgba(0, 0, 0, 0.3));\n",
              "      fill: #FFFFFF;\n",
              "    }\n",
              "  </style>\n",
              "\n",
              "      <script>\n",
              "        const buttonEl =\n",
              "          document.querySelector('#df-8a0bf408-fdb8-49fb-bb3e-4f46d0541c3c button.colab-df-convert');\n",
              "        buttonEl.style.display =\n",
              "          google.colab.kernel.accessAllowed ? 'block' : 'none';\n",
              "\n",
              "        async function convertToInteractive(key) {\n",
              "          const element = document.querySelector('#df-8a0bf408-fdb8-49fb-bb3e-4f46d0541c3c');\n",
              "          const dataTable =\n",
              "            await google.colab.kernel.invokeFunction('convertToInteractive',\n",
              "                                                     [key], {});\n",
              "          if (!dataTable) return;\n",
              "\n",
              "          const docLinkHtml = 'Like what you see? Visit the ' +\n",
              "            '<a target=\"_blank\" href=https://colab.research.google.com/notebooks/data_table.ipynb>data table notebook</a>'\n",
              "            + ' to learn more about interactive tables.';\n",
              "          element.innerHTML = '';\n",
              "          dataTable['output_type'] = 'display_data';\n",
              "          await google.colab.output.renderOutput(dataTable, element);\n",
              "          const docLink = document.createElement('div');\n",
              "          docLink.innerHTML = docLinkHtml;\n",
              "          element.appendChild(docLink);\n",
              "        }\n",
              "      </script>\n",
              "    </div>\n",
              "  </div>\n",
              "  "
            ],
            "text/plain": [
              "       Unnamed: 0  ...     categoryTags\n",
              "117           117  ...  Food and Dining\n",
              "504           504  ...  Food and Dining\n",
              "786           786  ...  Food and Dining\n",
              "913           913  ...  Food and Dining\n",
              "977           977  ...  Food and Dining\n",
              "...           ...  ...              ...\n",
              "90567       90567  ...  Food and Dining\n",
              "90850       90850  ...  Food and Dining\n",
              "91888       91888  ...  Food and Dining\n",
              "91900       91900  ...  Food and Dining\n",
              "92091       92091  ...  Food and Dining\n",
              "\n",
              "[395 rows x 10 columns]"
            ]
          },
          "metadata": {},
          "execution_count": 103
        }
      ]
    },
    {
      "cell_type": "markdown",
      "source": [
        "# Q5-How much was spent on Starbucks in April?"
      ],
      "metadata": {
        "id": "HojxkoJVruQ-"
      }
    },
    {
      "cell_type": "code",
      "source": [
        "tx[tx[\"description\"].str.contains(\"STARBUCKS\")&tx[\"originationDateTime\"].str.contains(\"2018-04\")][\"currencyAmount\"].sum()"
      ],
      "metadata": {
        "colab": {
          "base_uri": "https://localhost:8080/"
        },
        "id": "MqJj8PHYtXN5",
        "outputId": "6065a159-bcb5-4f3f-c9ec-df893a3eee47"
      },
      "execution_count": null,
      "outputs": [
        {
          "output_type": "execute_result",
          "data": {
            "text/plain": [
              "1720.87"
            ]
          },
          "metadata": {},
          "execution_count": 47
        }
      ]
    },
    {
      "cell_type": "markdown",
      "source": [
        "# Q6-Is the average spend at Starbucks significantly different in April compared to June?"
      ],
      "metadata": {
        "id": "XrC-LbZSrydA"
      }
    },
    {
      "cell_type": "code",
      "source": [
        "# mean in April\n",
        "tx[tx[\"description\"].str.contains(\"STARBUCKS\")&tx[\"originationDateTime\"].str.contains(\"2018-04\")][\"currencyAmount\"].mean()"
      ],
      "metadata": {
        "colab": {
          "base_uri": "https://localhost:8080/"
        },
        "id": "qY68pLuxwO3O",
        "outputId": "440b2b74-e1eb-45a4-907b-f3c1a8431e64"
      },
      "execution_count": null,
      "outputs": [
        {
          "output_type": "execute_result",
          "data": {
            "text/plain": [
              "4.356632911392409"
            ]
          },
          "metadata": {},
          "execution_count": 95
        }
      ]
    },
    {
      "cell_type": "code",
      "source": [
        "# mean in June\n",
        "tx[tx[\"description\"].str.contains(\"STARBUCKS\")&tx[\"originationDateTime\"].str.contains(\"2018-06\")][\"currencyAmount\"].mean()"
      ],
      "metadata": {
        "colab": {
          "base_uri": "https://localhost:8080/"
        },
        "id": "IOUCJp0LwbJk",
        "outputId": "a9a3bfc5-7ac2-4cbf-de0a-205aa331101c"
      },
      "execution_count": null,
      "outputs": [
        {
          "output_type": "execute_result",
          "data": {
            "text/plain": [
              "4.4984334203655365"
            ]
          },
          "metadata": {},
          "execution_count": 96
        }
      ]
    },
    {
      "cell_type": "markdown",
      "source": [
        "# Q7-Which day exhibited the highest average spend above trend (based on a 10-day moving average) at Starbucks?"
      ],
      "metadata": {
        "id": "VAg_xWuOr26D"
      }
    },
    {
      "cell_type": "code",
      "source": [
        "df=tx[tx['description'].str.contains(\"STARBUCKS\")]\n",
        "df['originationDateTime']=pd.to_datetime(df['originationDateTime'])\n",
        "df['time']=df['originationDateTime'].dt.strftime('%Y-%m-%d')\n",
        "df = df.sort_values(by=\"time\") \n",
        "\n"
      ],
      "metadata": {
        "id": "9y8vXK_Dwogp"
      },
      "execution_count": null,
      "outputs": []
    },
    {
      "cell_type": "code",
      "source": [
        "df['currencyAmount'].rolling(window=10).mean().max()"
      ],
      "metadata": {
        "id": "92WNHjR6ulVC"
      },
      "execution_count": null,
      "outputs": []
    },
    {
      "cell_type": "code",
      "source": [
        "df[df['currencyAmount'].rolling(window=10).mean()==6.563000000000002]"
      ],
      "metadata": {
        "colab": {
          "base_uri": "https://localhost:8080/",
          "height": 214
        },
        "id": "RvzrRE5ddl6g",
        "outputId": "04b964ac-4c8f-4c51-86fb-a86b652f0818"
      },
      "execution_count": null,
      "outputs": [
        {
          "output_type": "execute_result",
          "data": {
            "text/html": [
              "\n",
              "  <div id=\"df-c7ccc3cc-9a1d-45d3-a678-158491a27611\">\n",
              "    <div class=\"colab-df-container\">\n",
              "      <div>\n",
              "<style scoped>\n",
              "    .dataframe tbody tr th:only-of-type {\n",
              "        vertical-align: middle;\n",
              "    }\n",
              "\n",
              "    .dataframe tbody tr th {\n",
              "        vertical-align: top;\n",
              "    }\n",
              "\n",
              "    .dataframe thead th {\n",
              "        text-align: right;\n",
              "    }\n",
              "</style>\n",
              "<table border=\"1\" class=\"dataframe\">\n",
              "  <thead>\n",
              "    <tr style=\"text-align: right;\">\n",
              "      <th></th>\n",
              "      <th>Unnamed: 0</th>\n",
              "      <th>description</th>\n",
              "      <th>currencyAmount</th>\n",
              "      <th>locationRegion</th>\n",
              "      <th>locationCity</th>\n",
              "      <th>originationDateTime</th>\n",
              "      <th>customerId</th>\n",
              "      <th>merchantId</th>\n",
              "      <th>accountId</th>\n",
              "      <th>categoryTags</th>\n",
              "      <th>time</th>\n",
              "    </tr>\n",
              "  </thead>\n",
              "  <tbody>\n",
              "    <tr>\n",
              "      <th>68549</th>\n",
              "      <td>68549</td>\n",
              "      <td>STARBUCKS #4711</td>\n",
              "      <td>6.0</td>\n",
              "      <td>NaN</td>\n",
              "      <td>NaN</td>\n",
              "      <td>2018-10-18 10:59:00+00:00</td>\n",
              "      <td>fe51c153-fbec-4b64-9b00-2530035ef0e1_bbc8b795-...</td>\n",
              "      <td>3b7a8aa8-970a-4e82-b2af-89521c0dabb8</td>\n",
              "      <td>fe51c153-fbec-4b64-9b00-2530035ef0e1_079876bf-...</td>\n",
              "      <td>Food and Dining</td>\n",
              "      <td>2018-10-18</td>\n",
              "    </tr>\n",
              "  </tbody>\n",
              "</table>\n",
              "</div>\n",
              "      <button class=\"colab-df-convert\" onclick=\"convertToInteractive('df-c7ccc3cc-9a1d-45d3-a678-158491a27611')\"\n",
              "              title=\"Convert this dataframe to an interactive table.\"\n",
              "              style=\"display:none;\">\n",
              "        \n",
              "  <svg xmlns=\"http://www.w3.org/2000/svg\" height=\"24px\"viewBox=\"0 0 24 24\"\n",
              "       width=\"24px\">\n",
              "    <path d=\"M0 0h24v24H0V0z\" fill=\"none\"/>\n",
              "    <path d=\"M18.56 5.44l.94 2.06.94-2.06 2.06-.94-2.06-.94-.94-2.06-.94 2.06-2.06.94zm-11 1L8.5 8.5l.94-2.06 2.06-.94-2.06-.94L8.5 2.5l-.94 2.06-2.06.94zm10 10l.94 2.06.94-2.06 2.06-.94-2.06-.94-.94-2.06-.94 2.06-2.06.94z\"/><path d=\"M17.41 7.96l-1.37-1.37c-.4-.4-.92-.59-1.43-.59-.52 0-1.04.2-1.43.59L10.3 9.45l-7.72 7.72c-.78.78-.78 2.05 0 2.83L4 21.41c.39.39.9.59 1.41.59.51 0 1.02-.2 1.41-.59l7.78-7.78 2.81-2.81c.8-.78.8-2.07 0-2.86zM5.41 20L4 18.59l7.72-7.72 1.47 1.35L5.41 20z\"/>\n",
              "  </svg>\n",
              "      </button>\n",
              "      \n",
              "  <style>\n",
              "    .colab-df-container {\n",
              "      display:flex;\n",
              "      flex-wrap:wrap;\n",
              "      gap: 12px;\n",
              "    }\n",
              "\n",
              "    .colab-df-convert {\n",
              "      background-color: #E8F0FE;\n",
              "      border: none;\n",
              "      border-radius: 50%;\n",
              "      cursor: pointer;\n",
              "      display: none;\n",
              "      fill: #1967D2;\n",
              "      height: 32px;\n",
              "      padding: 0 0 0 0;\n",
              "      width: 32px;\n",
              "    }\n",
              "\n",
              "    .colab-df-convert:hover {\n",
              "      background-color: #E2EBFA;\n",
              "      box-shadow: 0px 1px 2px rgba(60, 64, 67, 0.3), 0px 1px 3px 1px rgba(60, 64, 67, 0.15);\n",
              "      fill: #174EA6;\n",
              "    }\n",
              "\n",
              "    [theme=dark] .colab-df-convert {\n",
              "      background-color: #3B4455;\n",
              "      fill: #D2E3FC;\n",
              "    }\n",
              "\n",
              "    [theme=dark] .colab-df-convert:hover {\n",
              "      background-color: #434B5C;\n",
              "      box-shadow: 0px 1px 3px 1px rgba(0, 0, 0, 0.15);\n",
              "      filter: drop-shadow(0px 1px 2px rgba(0, 0, 0, 0.3));\n",
              "      fill: #FFFFFF;\n",
              "    }\n",
              "  </style>\n",
              "\n",
              "      <script>\n",
              "        const buttonEl =\n",
              "          document.querySelector('#df-c7ccc3cc-9a1d-45d3-a678-158491a27611 button.colab-df-convert');\n",
              "        buttonEl.style.display =\n",
              "          google.colab.kernel.accessAllowed ? 'block' : 'none';\n",
              "\n",
              "        async function convertToInteractive(key) {\n",
              "          const element = document.querySelector('#df-c7ccc3cc-9a1d-45d3-a678-158491a27611');\n",
              "          const dataTable =\n",
              "            await google.colab.kernel.invokeFunction('convertToInteractive',\n",
              "                                                     [key], {});\n",
              "          if (!dataTable) return;\n",
              "\n",
              "          const docLinkHtml = 'Like what you see? Visit the ' +\n",
              "            '<a target=\"_blank\" href=https://colab.research.google.com/notebooks/data_table.ipynb>data table notebook</a>'\n",
              "            + ' to learn more about interactive tables.';\n",
              "          element.innerHTML = '';\n",
              "          dataTable['output_type'] = 'display_data';\n",
              "          await google.colab.output.renderOutput(dataTable, element);\n",
              "          const docLink = document.createElement('div');\n",
              "          docLink.innerHTML = docLinkHtml;\n",
              "          element.appendChild(docLink);\n",
              "        }\n",
              "      </script>\n",
              "    </div>\n",
              "  </div>\n",
              "  "
            ],
            "text/plain": [
              "       Unnamed: 0      description  ...     categoryTags        time\n",
              "68549       68549  STARBUCKS #4711  ...  Food and Dining  2018-10-18\n",
              "\n",
              "[1 rows x 11 columns]"
            ]
          },
          "metadata": {},
          "execution_count": 131
        }
      ]
    },
    {
      "cell_type": "markdown",
      "source": [
        "# Part2-Business Case"
      ],
      "metadata": {
        "id": "Q--j84jUxslK"
      }
    },
    {
      "cell_type": "markdown",
      "source": [
        "Q1: We are planning to launch a new product focused on a specific merchant category (e.g. travel credit card). Which specific merchant category would you like to focus on for this new product?  Please explain your rationale for this category incorporating both the insights derived from the data and other concepts where you see fit."
      ],
      "metadata": {
        "id": "Es6RBc_Axxp9"
      }
    },
    {
      "cell_type": "code",
      "source": [
        "tx[\"categoryTags\"].value_counts()"
      ],
      "metadata": {
        "colab": {
          "base_uri": "https://localhost:8080/"
        },
        "id": "zCsR5v_M8QHr",
        "outputId": "20a35ea9-9ae0-4707-bf80-2f17cebcd796"
      },
      "execution_count": null,
      "outputs": [
        {
          "output_type": "execute_result",
          "data": {
            "text/plain": [
              "Transfer               40700\n",
              "Income                 17391\n",
              "Bills and Utilities    16118\n",
              "Food and Dining        11346\n",
              "Taxes                   2095\n",
              "Mortgage and Rent       1599\n",
              "Shopping                1431\n",
              "Home                     599\n",
              "Fees and Charges         503\n",
              "Travel                   212\n",
              "Entertainment            126\n",
              "Auto and Transport        30\n",
              "Health and Fitness         8\n",
              "Kids                       2\n",
              "Name: categoryTags, dtype: int64"
            ]
          },
          "metadata": {},
          "execution_count": 102
        }
      ]
    },
    {
      "cell_type": "markdown",
      "source": [
        "**Income inverstment **\n",
        "It happens relativelt often among all transactions."
      ],
      "metadata": {
        "id": "vteCZvWq8wqU"
      }
    },
    {
      "cell_type": "markdown",
      "source": [
        "Q2:Identify and describe various segments of customers within the data"
      ],
      "metadata": {
        "id": "Mcz-LGcJys9d"
      }
    },
    {
      "cell_type": "code",
      "source": [
        "import matplotlib.pyplot as plt\n",
        "import numpy as np"
      ],
      "metadata": {
        "id": "dFtxMBYq2iiX"
      },
      "execution_count": null,
      "outputs": []
    },
    {
      "cell_type": "code",
      "source": [
        "custs[\"gender\"].value_counts()"
      ],
      "metadata": {
        "colab": {
          "base_uri": "https://localhost:8080/"
        },
        "id": "cImwYXeIzgP1",
        "outputId": "efaefcdd-c04a-42ae-95f0-70b28324f672"
      },
      "execution_count": null,
      "outputs": [
        {
          "output_type": "execute_result",
          "data": {
            "text/plain": [
              "Female    2701\n",
              "Male      2383\n",
              "Other      561\n",
              "Name: gender, dtype: int64"
            ]
          },
          "metadata": {},
          "execution_count": 56
        }
      ]
    },
    {
      "cell_type": "code",
      "source": [
        "y = np.array([2710,2383,561])\n",
        "labels = [\"Female\",\"Male\",\"Other\"]\n",
        "cls = [\"green\",\"black\",\"grey\"]\n",
        "plt.pie(y, labels=labels, colors=cls);"
      ],
      "metadata": {
        "colab": {
          "base_uri": "https://localhost:8080/",
          "height": 248
        },
        "id": "z2iVScOB1NmC",
        "outputId": "25c270d4-7f80-48dd-9ba1-49777c3f9b5e"
      },
      "execution_count": null,
      "outputs": [
        {
          "output_type": "display_data",
          "data": {
            "image/png": "[encoded data removed]",
            "text/plain": [
              "<Figure size 432x288 with 1 Axes>"
            ]
          },
          "metadata": {}
        }
      ]
    },
    {
      "cell_type": "code",
      "source": [
        "custs[\"workActivity\"].value_counts()\n"
      ],
      "metadata": {
        "colab": {
          "base_uri": "https://localhost:8080/"
        },
        "id": "bR-P0BWDzmR8",
        "outputId": "ff0f9279-747b-4dfa-fb5b-9b0be5376f56"
      },
      "execution_count": null,
      "outputs": [
        {
          "output_type": "execute_result",
          "data": {
            "text/plain": [
              "fulltime    2446\n",
              "parttime    1754\n",
              "Name: workActivity, dtype: int64"
            ]
          },
          "metadata": {},
          "execution_count": 53
        }
      ]
    },
    {
      "cell_type": "code",
      "source": [
        "custs.count()\n",
        "unemployed = 5645-4200"
      ],
      "metadata": {
        "id": "e_hF2vjBNPPs"
      },
      "execution_count": null,
      "outputs": []
    },
    {
      "cell_type": "code",
      "source": [
        "x =[\"full-time\",\"part-time\",\"unemployed\"]\n",
        "y = [2446,1754,unemployed]\n",
        "plt.bar(x,y,width=0.4,color=\"green\");"
      ],
      "metadata": {
        "colab": {
          "base_uri": "https://localhost:8080/",
          "height": 265
        },
        "id": "UOqDMXge11PT",
        "outputId": "aa30eb82-b7ae-4b6d-d979-9fbafab1e0ae"
      },
      "execution_count": null,
      "outputs": [
        {
          "output_type": "display_data",
          "data": {
            "image/png": "[encoded data removed]",
            "text/plain": [
              "<Figure size 432x288 with 1 Axes>"
            ]
          },
          "metadata": {
            "needs_background": "light"
          }
        }
      ]
    },
    {
      "cell_type": "code",
      "source": [
        "custs[\"relationshipStatus\"].value_counts()"
      ],
      "metadata": {
        "colab": {
          "base_uri": "https://localhost:8080/"
        },
        "id": "sMG2idPo0EMU",
        "outputId": "d1e8070f-75ef-4b1d-eaf3-9d0ebc32724c"
      },
      "execution_count": null,
      "outputs": [
        {
          "output_type": "execute_result",
          "data": {
            "text/plain": [
              "Married      2558\n",
              "Single       2054\n",
              "Divorced      472\n",
              "Widowed       346\n",
              "Separated     215\n",
              "Name: relationshipStatus, dtype: int64"
            ]
          },
          "metadata": {},
          "execution_count": 70
        }
      ]
    },
    {
      "cell_type": "code",
      "source": [
        "x = [\"Married\",\"Single\",\"Divorced\",\"Widowed\",\"Seperated\"]\n",
        "y = [2558,2054,472,346,215]\n",
        "plt.bar(x,y,width=0.4,color=\"green\");"
      ],
      "metadata": {
        "colab": {
          "base_uri": "https://localhost:8080/",
          "height": 265
        },
        "id": "1ZqlDKav3meg",
        "outputId": "389d91f2-2545-48c0-a5de-0c3a6112d3f9"
      },
      "execution_count": null,
      "outputs": [
        {
          "output_type": "display_data",
          "data": {
            "image/png": "[encoded data removed]",
            "text/plain": [
              "<Figure size 432x288 with 1 Axes>"
            ]
          },
          "metadata": {
            "needs_background": "light"
          }
        }
      ]
    },
    {
      "cell_type": "code",
      "source": [
        "plt.hist(custs['totalIncome'], bins=15,color=\"green\");"
      ],
      "metadata": {
        "colab": {
          "base_uri": "https://localhost:8080/",
          "height": 265
        },
        "id": "5yxkVBqp4X2r",
        "outputId": "4837d029-c01f-449a-c4d4-554210f7d356"
      },
      "execution_count": null,
      "outputs": [
        {
          "output_type": "display_data",
          "data": {
            "image/png": "[encoded data removed]",
            "text/plain": [
              "<Figure size 432x288 with 1 Axes>"
            ]
          },
          "metadata": {
            "needs_background": "light"
          }
        }
      ]
    },
    {
      "cell_type": "code",
      "source": [
        "custs[\"schoolAttendance\"].value_counts()"
      ],
      "metadata": {
        "id": "8ttJB_OoojGU"
      },
      "execution_count": null,
      "outputs": []
    },
    {
      "cell_type": "code",
      "source": [
        "plt.hist(custs[\"age\"], bins=30, color=\"green\");"
      ],
      "metadata": {
        "colab": {
          "base_uri": "https://localhost:8080/",
          "height": 265
        },
        "id": "Gh-faWK7ozHw",
        "outputId": "76508523-bf5e-4b6c-ed44-21b5629dbb9f"
      },
      "execution_count": null,
      "outputs": [
        {
          "output_type": "display_data",
          "data": {
            "image/png": "[encoded data removed]",
            "text/plain": [
              "<Figure size 432x288 with 1 Axes>"
            ]
          },
          "metadata": {
            "needs_background": "light"
          }
        }
      ]
    },
    {
      "cell_type": "markdown",
      "source": [
        "Q3:Of the segments that you created in question 2, which specific segment would you like to target for this new product? Why would you target them? What are the potential challenges/risks to consider when targeting this segment vs. others?"
      ],
      "metadata": {
        "id": "PnjpfJSl0nil"
      }
    },
    {
      "cell_type": "code",
      "source": [
        " # Since our product is about income inverstment, our target customers should be people with steady incomes, that is, customers with decent total income \n",
        " # and customers with jobs(both full-time and part-time). \n",
        "\n",
        " # The risk: customers with high total income may not be willing to invest their money using our product.\n",
        " # It might be aged "
      ],
      "metadata": {
        "id": "nnEz0NVG0pMn"
      },
      "execution_count": null,
      "outputs": []
    },
    {
      "cell_type": "code",
      "source": [
        "income_tx=tx[tx['categoryTags']=='Income']"
      ],
      "metadata": {
        "id": "Kt4gw_z-sWNq"
      },
      "execution_count": null,
      "outputs": []
    },
    {
      "cell_type": "code",
      "source": [
        "new=custs.merge(income_tx,left_on='id', right_on='customerId')"
      ],
      "metadata": {
        "id": "FEEP6M3uqf2q"
      },
      "execution_count": null,
      "outputs": []
    },
    {
      "cell_type": "code",
      "source": [
        "new['occupationIndustry'].value_counts()"
      ],
      "metadata": {
        "colab": {
          "base_uri": "https://localhost:8080/"
        },
        "id": "tm9vH93esVYJ",
        "outputId": "67640c74-a476-4616-e460-c2a3ee5a4a42"
      },
      "execution_count": null,
      "outputs": [
        {
          "output_type": "execute_result",
          "data": {
            "text/plain": [
              "Retired                                                                                          2985\n",
              "5221 Depository credit intermediation                                                             794\n",
              "6220 Hospitals (6221 to 6223)                                                                     515\n",
              "6111 Elementary and secondary schools                                                             491\n",
              "5411 Legal services                                                                               372\n",
              "                                                                                                 ... \n",
              "3333 Commercial and service industry machinery manufacturing                                        2\n",
              "3312 Steel product manufacturing from purchased steel                                               2\n",
              "7131 Amusement parks and arcades                                                                    2\n",
              "3252 Resin, synthetic rubber, and artificial and synthetic fibres and filaments manufacturing       1\n",
              "2372 Land subdivision                                                                               1\n",
              "Name: occupationIndustry, Length: 242, dtype: int64"
            ]
          },
          "metadata": {},
          "execution_count": 26
        }
      ]
    },
    {
      "cell_type": "code",
      "source": [
        "new.count()\n"
      ],
      "metadata": {
        "id": "KyeTNqkiCgpi"
      },
      "execution_count": null,
      "outputs": []
    }
  ]
}